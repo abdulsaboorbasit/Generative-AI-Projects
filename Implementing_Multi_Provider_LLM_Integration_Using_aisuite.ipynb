{
  "nbformat": 4,
  "nbformat_minor": 0,
  "metadata": {
    "colab": {
      "provenance": [],
      "authorship_tag": "ABX9TyMZPN7aO2PVY8cjHnct4N/4",
      "include_colab_link": true
    },
    "kernelspec": {
      "name": "python3",
      "display_name": "Python 3"
    },
    "language_info": {
      "name": "python"
    }
  },
  "cells": [
    {
      "cell_type": "markdown",
      "metadata": {
        "id": "view-in-github",
        "colab_type": "text"
      },
      "source": [
        "<a href=\"https://colab.research.google.com/github/abdulsaboorbasit/Python-Projects/blob/main/Implementing_Multi_Provider_LLM_Integration_Using_aisuite.ipynb\" target=\"_parent\"><img src=\"https://colab.research.google.com/assets/colab-badge.svg\" alt=\"Open In Colab\"/></a>"
      ]
    },
    {
      "cell_type": "markdown",
      "source": [
        "**Installing AI-Suite Library**"
      ],
      "metadata": {
        "id": "OSmzaLhPpuS6"
      }
    },
    {
      "cell_type": "code",
      "execution_count": 1,
      "metadata": {
        "id": "-woCiEkuLFqF",
        "colab": {
          "base_uri": "https://localhost:8080/"
        },
        "outputId": "39074994-753c-4a43-8ba6-759481f6099a"
      },
      "outputs": [
        {
          "output_type": "stream",
          "name": "stdout",
          "text": [
            "\u001b[?25l   \u001b[90m━━━━━━━━━━━━━━━━━━━━━━━━━━━━━━━━━━━━━━━━\u001b[0m \u001b[32m0.0/109.1 kB\u001b[0m \u001b[31m?\u001b[0m eta \u001b[36m-:--:--\u001b[0m\r\u001b[2K   \u001b[90m━━━━━━━━━━━━━━━━━━━━━━━━━━━━━━━━━━━━━━━━\u001b[0m \u001b[32m109.1/109.1 kB\u001b[0m \u001b[31m4.1 MB/s\u001b[0m eta \u001b[36m0:00:00\u001b[0m\n",
            "\u001b[?25h"
          ]
        }
      ],
      "source": [
        "!pip install --upgrade --quiet aisuite\n",
        "!pip install --upgrade --quiet groq"
      ]
    },
    {
      "cell_type": "markdown",
      "source": [
        "**Setting Up API Keys:**"
      ],
      "metadata": {
        "id": "lPHbBnZGp888"
      }
    },
    {
      "cell_type": "code",
      "source": [
        "from google.colab import userdata\n",
        "GROQ_API = userdata.get('GROQ_API_KEY')"
      ],
      "metadata": {
        "id": "uxPTg0okpXBY"
      },
      "execution_count": 2,
      "outputs": []
    },
    {
      "cell_type": "code",
      "source": [
        "import os\n",
        "os.environ['GROQ_API_KEY'] = GROQ_API"
      ],
      "metadata": {
        "id": "5ta0g6BruE1z"
      },
      "execution_count": 3,
      "outputs": []
    },
    {
      "cell_type": "code",
      "source": [
        "import aisuite as ai\n",
        "client = ai.Client()\n",
        "\n",
        "models = [\"groq:llama3-8b-8192\"]\n",
        "\n",
        "messages = [\n",
        "    {\"role\": \"system\", \"content\": \"Respond in Pirate English.\"},\n",
        "    {\"role\": \"user\", \"content\": \"Tell me a joke.\"},\n",
        "]\n",
        "\n",
        "for model in models:\n",
        "    response = client.chat.completions.create(\n",
        "        model=model,\n",
        "        messages=messages,\n",
        "        temperature=0.9\n",
        "    )\n",
        "    print(response.choices[0].message.content)\n"
      ],
      "metadata": {
        "colab": {
          "base_uri": "https://localhost:8080/"
        },
        "id": "o3hMzwpcq2U3",
        "outputId": "4f3d18e1-af7b-41ed-de4e-6545981f94ae"
      },
      "execution_count": 6,
      "outputs": [
        {
          "output_type": "stream",
          "name": "stdout",
          "text": [
            "Arrrr, listen up, me hearty! Here be a joke fer ye:\n",
            "\n",
            "Why did the pirate quit his job?\n",
            "\n",
            "Because he was sick o' all the arrrr-guments! Hahaha, shiver me timbers!\n"
          ]
        }
      ]
    }
  ]
}